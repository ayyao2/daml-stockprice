{
 "cells": [
  {
   "cell_type": "code",
   "execution_count": 5,
   "metadata": {},
   "outputs": [
    {
     "ename": "NameError",
     "evalue": "name 'generate_daily_augmented' is not defined",
     "output_type": "error",
     "traceback": [
      "\u001b[1;31m---------------------------------------------------------------------------\u001b[0m",
      "\u001b[1;31mNameError\u001b[0m                                 Traceback (most recent call last)",
      "\u001b[1;32mc:\\DAML\\stockpredict\\daml-stockprice\\load_data.ipynb Cell 1\u001b[0m line \u001b[0;36m1\n\u001b[0;32m     <a href='vscode-notebook-cell:/c%3A/DAML/stockpredict/daml-stockprice/load_data.ipynb#W0sZmlsZQ%3D%3D?line=10'>11</a>\u001b[0m companies \u001b[39m=\u001b[39m [\u001b[39m\"\u001b[39m\u001b[39mIBM\u001b[39m\u001b[39m\"\u001b[39m]\n\u001b[0;32m     <a href='vscode-notebook-cell:/c%3A/DAML/stockpredict/daml-stockprice/load_data.ipynb#W0sZmlsZQ%3D%3D?line=12'>13</a>\u001b[0m \u001b[39mfor\u001b[39;00m company \u001b[39min\u001b[39;00m companies:\n\u001b[1;32m---> <a href='vscode-notebook-cell:/c%3A/DAML/stockpredict/daml-stockprice/load_data.ipynb#W0sZmlsZQ%3D%3D?line=14'>15</a>\u001b[0m     company_data[company] \u001b[39m=\u001b[39m generate_daily_augmented(generate_daily(company),\u001b[39m0\u001b[39m)\n\u001b[0;32m     <a href='vscode-notebook-cell:/c%3A/DAML/stockpredict/daml-stockprice/load_data.ipynb#W0sZmlsZQ%3D%3D?line=15'>16</a>\u001b[0m     generate_daily_augmented(company_data[company], \u001b[39m0\u001b[39m)\n\u001b[0;32m     <a href='vscode-notebook-cell:/c%3A/DAML/stockpredict/daml-stockprice/load_data.ipynb#W0sZmlsZQ%3D%3D?line=18'>19</a>\u001b[0m df \u001b[39m=\u001b[39m pd\u001b[39m.\u001b[39mDataFrame(company_data)\n",
      "\u001b[1;31mNameError\u001b[0m: name 'generate_daily_augmented' is not defined"
     ]
    }
   ],
   "source": [
    "## Write scripts to load data from Alphavantage to Pandas Dataframe\n",
    "import numpy as np\n",
    "import pandas as pd\n",
    "import json\n",
    "\n",
    "\n",
    "company_data = {}\n",
    "\n",
    "# companies is supposed to be a list of symbols of companies but im not too sure whether to physically create the list of 500 symbols or a way to access it from the API.\n",
    "# companies = get_sp500_tickers()\n",
    "companies = [\"IBM\"]\n",
    "\n",
    "for company in companies:\n",
    "\n",
    "    company_data[company] = generate_daily_augmented(generate_daily(company),0)\n",
    "    generate_daily_augmented(company_data[company], 0)\n",
    "\n",
    "\n",
    "df = pd.DataFrame(company_data)\n",
    "\n"
   ]
  },
  {
   "cell_type": "code",
   "execution_count": null,
   "metadata": {},
   "outputs": [],
   "source": [
    "import requests\n",
    "import bs4 as bs\n",
    "\n",
    "#obtain all S&P symbols\n",
    "def get_sp500_tickers():\n",
    "    resp = requests.get('http://en.wikipedia.org/wiki/List_of_S%26P_500_companies')\n",
    "    soup = bs.BeautifulSoup(resp.text, 'lxml')\n",
    "    table = soup.find('table', {'class': 'wikitable sortable'})\n",
    "\n",
    "    tickers = []\n",
    "\n",
    "    for row in table.findAll('tr')[1:]:\n",
    "        ticker = row.findAll('td')[0].text\n",
    "        tickers.append(ticker)\n",
    "\n",
    "    tickers = [s.replace('\\n', '') for s in tickers]\n",
    "\n",
    "    return tickers\n",
    "\n",
    "get_sp500_tickers()"
   ]
  },
  {
   "cell_type": "code",
   "execution_count": 11,
   "metadata": {},
   "outputs": [],
   "source": [
    "def generate_daily(stocks):\n",
    "\n",
    "    url = 'https://www.alphavantage.co/query?function=TIME_SERIES_DAILY&symbol={}&outputsize=compact&apikey=1QPXCY5WU9WFE7N6'.format(stocks)\n",
    "    r = requests.get(url)\n",
    "    data = r.json()\n",
    "\n",
    "    return data"
   ]
  },
  {
   "cell_type": "code",
   "execution_count": 30,
   "metadata": {},
   "outputs": [],
   "source": [
    "def generate_daily_augmented(stocks, categories):\n",
    "    dict = {}\n",
    "    for i in stockDict['Time Series (Daily)']:\n",
    "        list = []\n",
    "        for x in stocks[i]:\n",
    "            list.append(stocks[i][x])\n",
    "         \n",
    "        dict[i] = list\n",
    "        \n",
    "\n",
    "    return dict"
   ]
  }
 ],
 "metadata": {
  "kernelspec": {
   "display_name": "Python 3",
   "language": "python",
   "name": "python3"
  },
  "language_info": {
   "codemirror_mode": {
    "name": "ipython",
    "version": 3
   },
   "file_extension": ".py",
   "mimetype": "text/x-python",
   "name": "python",
   "nbconvert_exporter": "python",
   "pygments_lexer": "ipython3",
   "version": "3.11.4"
  },
  "orig_nbformat": 4
 },
 "nbformat": 4,
 "nbformat_minor": 2
}

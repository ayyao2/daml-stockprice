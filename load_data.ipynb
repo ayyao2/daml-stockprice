{
 "cells": [
  {
   "cell_type": "code",
   "execution_count": 8,
   "metadata": {},
   "outputs": [
    {
     "ename": "KeyError",
     "evalue": "'Time Series (Daily)'",
     "output_type": "error",
     "traceback": [
      "\u001b[1;31m---------------------------------------------------------------------------\u001b[0m",
      "\u001b[1;31mKeyError\u001b[0m                                  Traceback (most recent call last)",
      "\u001b[1;32mc:\\Users\\chahm\\Documents\\GitHub\\daml-stockprice\\load_data.ipynb Cell 1\u001b[0m line \u001b[0;36m1\n\u001b[0;32m     <a href='vscode-notebook-cell:/c%3A/Users/chahm/Documents/GitHub/daml-stockprice/load_data.ipynb#W0sZmlsZQ%3D%3D?line=13'>14</a>\u001b[0m categories \u001b[39m=\u001b[39m [\u001b[39m\"\u001b[39m\u001b[39m1. open\u001b[39m\u001b[39m\"\u001b[39m, \u001b[39m\"\u001b[39m\u001b[39m2. high\u001b[39m\u001b[39m\"\u001b[39m, \u001b[39m\"\u001b[39m\u001b[39m3. low\u001b[39m\u001b[39m\"\u001b[39m, \u001b[39m\"\u001b[39m\u001b[39m4. close\u001b[39m\u001b[39m\"\u001b[39m, \u001b[39m\"\u001b[39m\u001b[39m5. volume\u001b[39m\u001b[39m\"\u001b[39m]\n\u001b[0;32m     <a href='vscode-notebook-cell:/c%3A/Users/chahm/Documents/GitHub/daml-stockprice/load_data.ipynb#W0sZmlsZQ%3D%3D?line=15'>16</a>\u001b[0m \u001b[39mfor\u001b[39;00m company \u001b[39min\u001b[39;00m companies:\n\u001b[1;32m---> <a href='vscode-notebook-cell:/c%3A/Users/chahm/Documents/GitHub/daml-stockprice/load_data.ipynb#W0sZmlsZQ%3D%3D?line=17'>18</a>\u001b[0m     company_data[company] \u001b[39m=\u001b[39m generate_daily_augmented(generate_daily(company), categories)\n\u001b[0;32m     <a href='vscode-notebook-cell:/c%3A/Users/chahm/Documents/GitHub/daml-stockprice/load_data.ipynb#W0sZmlsZQ%3D%3D?line=20'>21</a>\u001b[0m     \u001b[39m# Supposed to seperate the company data in a cleaner format and store the company as a key, and its data/specifics as values\u001b[39;00m\n\u001b[0;32m     <a href='vscode-notebook-cell:/c%3A/Users/chahm/Documents/GitHub/daml-stockprice/load_data.ipynb#W0sZmlsZQ%3D%3D?line=22'>23</a>\u001b[0m df \u001b[39m=\u001b[39m pd\u001b[39m.\u001b[39mDataFrame(company_data)\n",
      "\u001b[1;32mc:\\Users\\chahm\\Documents\\GitHub\\daml-stockprice\\load_data.ipynb Cell 1\u001b[0m line \u001b[0;36m5\n\u001b[0;32m      <a href='vscode-notebook-cell:/c%3A/Users/chahm/Documents/GitHub/daml-stockprice/load_data.ipynb#W0sZmlsZQ%3D%3D?line=2'>3</a>\u001b[0m \u001b[39mdef\u001b[39;00m \u001b[39mgenerate_daily_augmented\u001b[39m(stocks, categories):\n\u001b[0;32m      <a href='vscode-notebook-cell:/c%3A/Users/chahm/Documents/GitHub/daml-stockprice/load_data.ipynb#W0sZmlsZQ%3D%3D?line=3'>4</a>\u001b[0m     cats \u001b[39m=\u001b[39m {}\n\u001b[1;32m----> <a href='vscode-notebook-cell:/c%3A/Users/chahm/Documents/GitHub/daml-stockprice/load_data.ipynb#W0sZmlsZQ%3D%3D?line=4'>5</a>\u001b[0m     \u001b[39mfor\u001b[39;00m i \u001b[39min\u001b[39;00m stocks[\u001b[39m'\u001b[39;49m\u001b[39mTime Series (Daily)\u001b[39;49m\u001b[39m'\u001b[39;49m]:\n\u001b[0;32m      <a href='vscode-notebook-cell:/c%3A/Users/chahm/Documents/GitHub/daml-stockprice/load_data.ipynb#W0sZmlsZQ%3D%3D?line=5'>6</a>\u001b[0m         \u001b[39mfor\u001b[39;00m cat \u001b[39min\u001b[39;00m categories:\n\u001b[0;32m      <a href='vscode-notebook-cell:/c%3A/Users/chahm/Documents/GitHub/daml-stockprice/load_data.ipynb#W0sZmlsZQ%3D%3D?line=6'>7</a>\u001b[0m             cats[i] \u001b[39m=\u001b[39m cats\u001b[39m.\u001b[39mget(i, \u001b[39m\"\u001b[39m\u001b[39m\"\u001b[39m) \u001b[39m+\u001b[39m \u001b[39m\"\u001b[39m\u001b[39m \u001b[39m\u001b[39m\"\u001b[39m \u001b[39m+\u001b[39m stocks[\u001b[39m'\u001b[39m\u001b[39mTime Series (Daily)\u001b[39m\u001b[39m'\u001b[39m][i][cat] \n",
      "\u001b[1;31mKeyError\u001b[0m: 'Time Series (Daily)'"
     ]
    }
   ],
   "source": [
    "## Write scripts to load data from Alphavantage to Pandas Dataframe\n",
    "import numpy as np\n",
    "import pandas as pd\n",
    "import requests\n",
    "from matplotlib import pyplot\n",
    "import json\n",
    "\n",
    "company_data = {}\n",
    "\n",
    "# companies is supposed to be a list of symbols of companies but im not too sure whether to physically create the list of 500 symbols or a way to access it from the API.\n",
    "# companies = get_sp500_tickers()\n",
    "companies = [\"IBM\"]\n",
    "\n",
    "categories = [\"1. open\", \"2. high\", \"3. low\", \"4. close\", \"5. volume\"]\n",
    "\n",
    "for company in companies:\n",
    "\n",
    "    company_data[company] = generate_daily_augmented(generate_daily(company), categories)\n",
    "    \n",
    "    \n",
    "    # Supposed to seperate the company data in a cleaner format and store the company as a key, and its data/specifics as values\n",
    "\n",
    "df = pd.DataFrame(company_data)\n",
    "print(df)\n",
    "# print(df.plot())\n",
    "# pyplot.show()\n",
    "\n",
    "\n",
    "\n"
   ]
  },
  {
   "cell_type": "code",
   "execution_count": null,
   "metadata": {},
   "outputs": [],
   "source": [
    "import requests\n",
    "import bs4 as bs\n",
    "import lxml\n",
    "\n",
    "#obtain all S&P symbols\n",
    "def get_sp500_tickers():\n",
    "    resp = requests.get('http://en.wikipedia.org/wiki/List_of_S%26P_500_companies')\n",
    "    soup = bs.BeautifulSoup(resp.text, 'lxml')\n",
    "    table = soup.find('table', {'class': 'wikitable sortable'})\n",
    "\n",
    "    tickers = []\n",
    "\n",
    "    for row in table.findAll('tr')[1:]:\n",
    "        ticker = row.findAll('td')[0].text\n",
    "        tickers.append(ticker)\n",
    "\n",
    "    tickers = [s.replace('\\n', '') for s in tickers]\n",
    "\n",
    "    print(tickers)\n",
    "    return tickers\n",
    "\n",
    "get_sp500_tickers()"
   ]
  },
  {
   "cell_type": "code",
   "execution_count": 7,
   "metadata": {},
   "outputs": [],
   "source": [
    "def generate_daily(stocks):\n",
    "\n",
    "    url = 'https://www.alphavantage.co/query?function=TIME_SERIES_DAILY&symbol={}&outputsize=compact&apikey=1QPXCY5WU9WFE7N6'.format(stocks)\n",
    "    r = requests.get(url)\n",
    "    data = r.json()\n",
    "\n",
    "    return data"
   ]
  },
  {
   "cell_type": "code",
   "execution_count": 2,
   "metadata": {},
   "outputs": [],
   "source": [
    "# what is categories supposed to do?\n",
    "# trying to turn return a dictionary with the key as the date and the value as an array of 5 indices (open, high, low, close, volume)\n",
    "def generate_daily_augmented(stocks, categories):\n",
    "    cats = {}\n",
    "    for i in stocks['Time Series (Daily)']:\n",
    "        for cat in categories:\n",
    "            cats[i] = cats.get(i, \"\") + \" \" + stocks['Time Series (Daily)'][i][cat] \n",
    "        \n",
    "         \n",
    "    return cats"
   ]
  }
 ],
 "metadata": {
  "kernelspec": {
   "display_name": "Python 3",
   "language": "python",
   "name": "python3"
  },
  "language_info": {
   "codemirror_mode": {
    "name": "ipython",
    "version": 3
   },
   "file_extension": ".py",
   "mimetype": "text/x-python",
   "name": "python",
   "nbconvert_exporter": "python",
   "pygments_lexer": "ipython3",
   "version": "3.11.5"
  },
  "orig_nbformat": 4
 },
 "nbformat": 4,
 "nbformat_minor": 2
}
